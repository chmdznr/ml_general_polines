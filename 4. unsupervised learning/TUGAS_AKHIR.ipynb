{
 "cells": [
  {
   "cell_type": "markdown",
   "metadata": {},
   "source": [
    "Dengan menggunakan pengetahuan yang Anda dapatkan pada sesi kali ini, analisalah kasus-kasus berikut menggunakan metode clustering/unsupervised learning:\n",
    "1. Kasus Customer Clustering: https://www.kaggle.com/datasets/dev0914sharma/customer-clustering?select=segmentation+data.csv\n",
    "2. Kasus Countries Clustering: https://www.kaggle.com/datasets/rohan0301/unsupervised-learning-on-country-data\n",
    "\n",
    "Pastikan Anda membaca dan pahami baik-baik masing-masing _link_ mengenai deskripsi dari dataset yang akan Anda olah tersebut."
   ]
  }
 ],
 "metadata": {
  "language_info": {
   "name": "python"
  },
  "orig_nbformat": 4
 },
 "nbformat": 4,
 "nbformat_minor": 2
}
