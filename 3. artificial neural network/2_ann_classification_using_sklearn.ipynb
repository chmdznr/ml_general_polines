{
 "cells": [
  {
   "cell_type": "markdown",
   "metadata": {},
   "source": [
    "## MLP Classification\n",
    "\n",
    "We'll use MNIST dataset for classification."
   ]
  },
  {
   "cell_type": "code",
   "execution_count": 2,
   "metadata": {},
   "outputs": [],
   "source": [
    "import matplotlib.pyplot as plt\n",
    "from sklearn.datasets import fetch_openml\n",
    "from sklearn.neural_network import MLPClassifier\n",
    "from sklearn.model_selection import train_test_split\n"
   ]
  },
  {
   "cell_type": "markdown",
   "metadata": {},
   "source": [
    "Load dataset using sklearn.\n",
    "\n",
    "Some wellknown dataset can be easily downloaded using scikit-learn built-in function."
   ]
  },
  {
   "cell_type": "code",
   "execution_count": 3,
   "metadata": {},
   "outputs": [],
   "source": [
    "# Load data from https://www.openml.org/d/554\n",
    "X, y = fetch_openml(\"mnist_784\", version=1, return_X_y=True, as_frame=False)\n",
    "X = X / 255.0\n"
   ]
  },
  {
   "cell_type": "markdown",
   "metadata": {},
   "source": [
    "Split dataset"
   ]
  },
  {
   "cell_type": "code",
   "execution_count": 4,
   "metadata": {},
   "outputs": [],
   "source": [
    "# Split data into train partition and test partition\n",
    "X_train, X_test, y_train, y_test = train_test_split(X, y, random_state=0, test_size=0.3)"
   ]
  },
  {
   "cell_type": "markdown",
   "metadata": {},
   "source": [
    "Define simple MLP model"
   ]
  },
  {
   "cell_type": "code",
   "execution_count": 7,
   "metadata": {},
   "outputs": [],
   "source": [
    "mlp = MLPClassifier(\n",
    "    hidden_layer_sizes=(40,),\n",
    "    max_iter=100,\n",
    "    alpha=1e-4,\n",
    "    solver=\"sgd\",\n",
    "    verbose=1,\n",
    "    random_state=1,\n",
    "    learning_rate_init=0.2,\n",
    ")"
   ]
  },
  {
   "cell_type": "markdown",
   "metadata": {},
   "source": [
    "Train!"
   ]
  },
  {
   "cell_type": "code",
   "execution_count": 8,
   "metadata": {},
   "outputs": [
    {
     "name": "stdout",
     "output_type": "stream",
     "text": [
      "Iteration 1, loss = 0.30763959\n",
      "Iteration 2, loss = 0.14463751\n",
      "Iteration 3, loss = 0.11186542\n",
      "Iteration 4, loss = 0.09615766\n",
      "Iteration 5, loss = 0.08306103\n",
      "Iteration 6, loss = 0.07271257\n",
      "Iteration 7, loss = 0.06482094\n",
      "Iteration 8, loss = 0.06065260\n",
      "Iteration 9, loss = 0.05795908\n",
      "Iteration 10, loss = 0.05145112\n",
      "Iteration 11, loss = 0.04675659\n",
      "Iteration 12, loss = 0.04154988\n",
      "Iteration 13, loss = 0.04120031\n",
      "Iteration 14, loss = 0.03914403\n",
      "Iteration 15, loss = 0.03608353\n",
      "Iteration 16, loss = 0.03183596\n",
      "Iteration 17, loss = 0.03135933\n",
      "Iteration 18, loss = 0.02813356\n",
      "Iteration 19, loss = 0.02414203\n",
      "Iteration 20, loss = 0.02489996\n",
      "Iteration 21, loss = 0.02151864\n",
      "Iteration 22, loss = 0.01876226\n",
      "Iteration 23, loss = 0.01929066\n",
      "Iteration 24, loss = 0.01721397\n",
      "Iteration 25, loss = 0.01652200\n",
      "Iteration 26, loss = 0.01718492\n",
      "Iteration 27, loss = 0.01371928\n",
      "Iteration 28, loss = 0.01606574\n",
      "Iteration 29, loss = 0.01364140\n",
      "Iteration 30, loss = 0.01160446\n",
      "Iteration 31, loss = 0.01318557\n",
      "Iteration 32, loss = 0.01285440\n",
      "Iteration 33, loss = 0.01153870\n",
      "Iteration 34, loss = 0.01301598\n",
      "Iteration 35, loss = 0.01294055\n",
      "Iteration 36, loss = 0.01674841\n",
      "Iteration 37, loss = 0.01520659\n",
      "Iteration 38, loss = 0.00813578\n",
      "Iteration 39, loss = 0.00523900\n",
      "Iteration 40, loss = 0.00445586\n",
      "Iteration 41, loss = 0.00216238\n",
      "Iteration 42, loss = 0.00152443\n",
      "Iteration 43, loss = 0.00108700\n",
      "Iteration 44, loss = 0.00099528\n",
      "Iteration 45, loss = 0.00094683\n",
      "Iteration 46, loss = 0.00092344\n",
      "Iteration 47, loss = 0.00090633\n",
      "Iteration 48, loss = 0.00087932\n",
      "Iteration 49, loss = 0.00087098\n",
      "Iteration 50, loss = 0.00085670\n",
      "Iteration 51, loss = 0.00084703\n",
      "Iteration 52, loss = 0.00083536\n",
      "Iteration 53, loss = 0.00082916\n",
      "Iteration 54, loss = 0.00082363\n",
      "Training loss did not improve more than tol=0.000100 for 10 consecutive epochs. Stopping.\n"
     ]
    },
    {
     "data": {
      "text/plain": [
       "MLPClassifier(hidden_layer_sizes=(40,), learning_rate_init=0.2, max_iter=100,\n",
       "              random_state=1, solver='sgd', verbose=1)"
      ]
     },
     "execution_count": 8,
     "metadata": {},
     "output_type": "execute_result"
    }
   ],
   "source": [
    "mlp.fit(X_train, y_train)"
   ]
  },
  {
   "cell_type": "markdown",
   "metadata": {},
   "source": [
    "Evaluate!"
   ]
  },
  {
   "cell_type": "code",
   "execution_count": 9,
   "metadata": {},
   "outputs": [
    {
     "name": "stdout",
     "output_type": "stream",
     "text": [
      "Training set score: 1.000000\n",
      "Test set score: 0.970381\n"
     ]
    }
   ],
   "source": [
    "print(\"Training set score: %f\" % mlp.score(X_train, y_train))\n",
    "print(\"Test set score: %f\" % mlp.score(X_test, y_test))\n"
   ]
  },
  {
   "cell_type": "markdown",
   "metadata": {},
   "source": [
    "Wow! It's already this good. 97+% accuracy."
   ]
  }
 ],
 "metadata": {
  "interpreter": {
   "hash": "b3ba2566441a7c06988d0923437866b63cedc61552a5af99d1f4fb67d367b25f"
  },
  "kernelspec": {
   "display_name": "Python 3.8.8 ('base')",
   "language": "python",
   "name": "python3"
  },
  "language_info": {
   "codemirror_mode": {
    "name": "ipython",
    "version": 3
   },
   "file_extension": ".py",
   "mimetype": "text/x-python",
   "name": "python",
   "nbconvert_exporter": "python",
   "pygments_lexer": "ipython3",
   "version": "3.8.8"
  },
  "orig_nbformat": 4
 },
 "nbformat": 4,
 "nbformat_minor": 2
}
