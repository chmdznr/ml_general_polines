{
 "cells": [
  {
   "cell_type": "markdown",
   "metadata": {},
   "source": [
    "_Exercise: Using deep learning techniques in this chapter, do sentiment analysis on this dataset:_\n",
    "* Financial Sentiment Analysis: https://www.kaggle.com/datasets/sbhatti/financial-sentiment-analysis\n",
    "* Twitter Sentiment Analysis: https://www.kaggle.com/datasets/jp797498e/twitter-entity-sentiment-analysis"
   ]
  }
 ],
 "metadata": {
  "language_info": {
   "name": "python"
  },
  "orig_nbformat": 4
 },
 "nbformat": 4,
 "nbformat_minor": 2
}
