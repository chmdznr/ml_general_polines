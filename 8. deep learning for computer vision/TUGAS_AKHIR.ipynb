{
 "cells": [
  {
   "cell_type": "markdown",
   "metadata": {},
   "source": [
    "Dengan menggunakan pengetahuan tentang CNN pada bab ini, silakan susun Deep Neural Network sendiri untuk mendapatkan tingkat akurasi lbih dari 99% pada dataset berikut:\n",
    "https://www.kaggle.com/c/digit-recognizer/"
   ]
  }
 ],
 "metadata": {
  "language_info": {
   "name": "python"
  },
  "orig_nbformat": 4
 },
 "nbformat": 4,
 "nbformat_minor": 2
}
