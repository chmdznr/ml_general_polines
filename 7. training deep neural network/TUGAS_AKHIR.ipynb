{
 "cells": [
  {
   "cell_type": "markdown",
   "metadata": {},
   "source": [
    "Dengan menggunakan pengetahuan yang Anda dapatkan pada sesi kali ini, pergunakan teknik **Batch Normalization** dan rubah-rubahlah **activation function** untuk mendapatkan hasil yang lebih baik daripada pada sesi sebelumnya:\n",
    "1. Kasus Regresi: https://www.kaggle.com/datasets/prathamtripathi/regression-with-neural-networking\n",
    "2. Kasus Klasifikasi: https://www.kaggle.com/datasets/deepu1109/star-dataset"
   ]
  }
 ],
 "metadata": {
  "language_info": {
   "name": "python"
  },
  "orig_nbformat": 4
 },
 "nbformat": 4,
 "nbformat_minor": 2
}
