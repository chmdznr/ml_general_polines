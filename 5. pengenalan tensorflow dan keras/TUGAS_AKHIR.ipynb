{
 "cells": [
  {
   "cell_type": "markdown",
   "metadata": {},
   "source": [
    "Dengan menggunakan pengetahuan yang Anda dapatkan pada sesi kali ini, analisalah kasus-kasus berikut dan selesaikan dengan menggunakan library **keras + tensorflow**:\n",
    "1. Kasus Regresi: https://www.kaggle.com/datasets/prathamtripathi/regression-with-neural-networking\n",
    "2. Kasus Klasifikasi: https://www.kaggle.com/datasets/deepu1109/star-dataset\n",
    "\n",
    "Pastikan Anda membaca dan pahami baik-baik masing-masing _link_ mengenai deskripsi dari dataset yang akan Anda olah tersebut.\n",
    "\n",
    "Apakah Anda bisa mendapatkan hasil yang lebih baik daripada menggunakan teknik yang Anda pelajari pada pertemuan ke-3?"
   ]
  }
 ],
 "metadata": {
  "language_info": {
   "name": "python"
  },
  "orig_nbformat": 4
 },
 "nbformat": 4,
 "nbformat_minor": 2
}
