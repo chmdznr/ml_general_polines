{
 "cells": [
  {
   "cell_type": "markdown",
   "metadata": {},
   "source": [
    "Dengan menggunakan pengetahuan yang Anda dapatkan pada sesi kali ini, pergunakan teknik **Hyperparameter Tuning** dan **callbacks** untuk mendapatkan hasil yang lebih baik daripada pada sesi seblumnya:\n",
    "1. Kasus Regresi: https://www.kaggle.com/datasets/prathamtripathi/regression-with-neural-networking\n",
    "2. Kasus Klasifikasi: https://www.kaggle.com/datasets/deepu1109/star-dataset"
   ]
  }
 ],
 "metadata": {
  "language_info": {
   "name": "python"
  },
  "orig_nbformat": 4
 },
 "nbformat": 4,
 "nbformat_minor": 2
}
